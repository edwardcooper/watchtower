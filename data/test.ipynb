{
 "cells": [
  {
   "cell_type": "code",
   "execution_count": 1,
   "metadata": {},
   "outputs": [],
   "source": [
    "from urllib.request import urlopen\n",
    "from bs4 import BeautifulSoup as soup\n",
    "import re\n",
    "import pandas as pd\n",
    "import time\n",
    "\n",
    "master_url = \"https://en.wikipedia.org/wiki/Category:Physics\"\n",
    "# a function to get the links for all the subcategories.\n",
    "def wiki_subcategory_links(url):\n",
    "    # Read the page into python with urlopen. Then close the connection afterwards.\n",
    "    wiki_master = urlopen(url).read()\n",
    "    # parse the file as html.\n",
    "    wiki_master_parsed = soup(wiki_master,\"html.parser\")\n",
    "    # find a div with class label CategoryTreeLabel\n",
    "    wiki_subcategories=wiki_master_parsed.findAll(\"a\",{\"class\":\"CategoryTreeLabel\"})\n",
    "    \n",
    "    # get the ref part \n",
    "    subcategory_links = dict()\n",
    "    for subcategory in wiki_subcategories:\n",
    "        # use the text as the key\n",
    "        key = subcategory.text\n",
    "        # get the sublink and add the full https link.\n",
    "        value = \"https://en.wikipedia.org\"+str(subcategory['href'])\n",
    "        \n",
    "        subcategory_links[key] = value\n",
    "\n",
    "    return subcategory_links"
   ]
  },
  {
   "cell_type": "code",
   "execution_count": 2,
   "metadata": {},
   "outputs": [],
   "source": [
    "phys_subcategory_links = wiki_subcategory_links(master_url)"
   ]
  },
  {
   "cell_type": "code",
   "execution_count": 3,
   "metadata": {},
   "outputs": [
    {
     "data": {
      "text/plain": [
       "{'Concepts in physics': 'https://en.wikipedia.org/wiki/Category:Concepts_in_physics',\n",
       " 'Physics templates': 'https://en.wikipedia.org/wiki/Category:Physics_templates',\n",
       " 'Subfields of physics': 'https://en.wikipedia.org/wiki/Category:Subfields_of_physics',\n",
       " 'Physicists': 'https://en.wikipedia.org/wiki/Category:Physicists',\n",
       " 'Physics awards': 'https://en.wikipedia.org/wiki/Category:Physics_awards',\n",
       " 'Equations of physics': 'https://en.wikipedia.org/wiki/Category:Equations_of_physics',\n",
       " 'Physics events': 'https://en.wikipedia.org/wiki/Category:Physics_events',\n",
       " 'Physics in fiction': 'https://en.wikipedia.org/wiki/Category:Physics_in_fiction',\n",
       " 'Fringe physics': 'https://en.wikipedia.org/wiki/Category:Fringe_physics',\n",
       " 'Gravitation': 'https://en.wikipedia.org/wiki/Category:Gravitation',\n",
       " 'History of physics': 'https://en.wikipedia.org/wiki/Category:History_of_physics',\n",
       " 'Interaction': 'https://en.wikipedia.org/wiki/Category:Interaction',\n",
       " 'Limits of computation': 'https://en.wikipedia.org/wiki/Category:Limits_of_computation',\n",
       " 'Limits to computation': 'https://en.wikipedia.org/wiki/Category:Limits_to_computation',\n",
       " 'Physics-related lists': 'https://en.wikipedia.org/wiki/Category:Physics-related_lists',\n",
       " 'Physics literature': 'https://en.wikipedia.org/wiki/Category:Physics_literature',\n",
       " 'Modern physics': 'https://en.wikipedia.org/wiki/Category:Modern_physics',\n",
       " 'Physics organizations': 'https://en.wikipedia.org/wiki/Category:Physics_organizations',\n",
       " 'Physical phenomena': 'https://en.wikipedia.org/wiki/Category:Physical_phenomena',\n",
       " 'Physical properties': 'https://en.wikipedia.org/wiki/Category:Physical_properties',\n",
       " 'Physical quantities': 'https://en.wikipedia.org/wiki/Category:Physical_quantities',\n",
       " 'Physical systems': 'https://en.wikipedia.org/wiki/Category:Physical_systems',\n",
       " 'Standardized tests for Physics': 'https://en.wikipedia.org/wiki/Category:Standardized_tests_for_Physics',\n",
       " 'Time in physics': 'https://en.wikipedia.org/wiki/Category:Time_in_physics',\n",
       " 'Unsolved problems in physics': 'https://en.wikipedia.org/wiki/Category:Unsolved_problems_in_physics',\n",
       " 'Physics websites': 'https://en.wikipedia.org/wiki/Category:Physics_websites',\n",
       " 'Wikipedia books on physics': 'https://en.wikipedia.org/wiki/Category:Wikipedia_books_on_physics',\n",
       " 'Physics stubs': 'https://en.wikipedia.org/wiki/Category:Physics_stubs'}"
      ]
     },
     "execution_count": 3,
     "metadata": {},
     "output_type": "execute_result"
    }
   ],
   "source": [
    "phys_subcategory_links"
   ]
  },
  {
   "cell_type": "code",
   "execution_count": 43,
   "metadata": {},
   "outputs": [],
   "source": [
    "def scrape_method_1(html):\n",
    "    # initialize the dictionary\n",
    "    all_article_links = dict() \n",
    "    # find all the div labels with class mw-category-group\n",
    "    wiki_articles = html.findAll('div',{\"id\":\"mw-pages\"})[0].findAll('a')\n",
    "    \n",
    "    for each_article in wiki_articles:\n",
    "        # use the title as dictionary key\n",
    "        key = each_article['title']\n",
    "        # use the full link as dictionary value.\n",
    "        value = \"https://en.wikipedia.org\"+str(each_article['href'])\n",
    "        # assign the key value pair\n",
    "        all_article_links[key] = value\n",
    "                    \n",
    "    return all_article_links    "
   ]
  },
  {
   "cell_type": "code",
   "execution_count": 51,
   "metadata": {},
   "outputs": [],
   "source": [
    "# a function to get the links of all articles from one subcategory\n",
    "def get_wiki_article_links(url):\n",
    "    # Read the page into python with urlopen. Then close the connection afterwards.\n",
    "    wiki_master = urlopen(url).read()\n",
    "    # parse the file as html.\n",
    "    wiki_master_parsed = soup(wiki_master,\"html.parser\") \n",
    "    article_links = dict()\n",
    "    try:\n",
    "        # the first structure to get the links and names\n",
    "        article_links = scrape_method_1(wiki_master_parsed)\n",
    "    except:\n",
    "        print(\"The article pages are empty.\")\n",
    "    return article_links"
   ]
  },
  {
   "cell_type": "code",
   "execution_count": null,
   "metadata": {},
   "outputs": [],
   "source": []
  }
 ],
 "metadata": {
  "kernelspec": {
   "display_name": "Python 3",
   "language": "python",
   "name": "python3"
  },
  "language_info": {
   "codemirror_mode": {
    "name": "ipython",
    "version": 3
   },
   "file_extension": ".py",
   "mimetype": "text/x-python",
   "name": "python",
   "nbconvert_exporter": "python",
   "pygments_lexer": "ipython3",
   "version": "3.6.3"
  }
 },
 "nbformat": 4,
 "nbformat_minor": 2
}
