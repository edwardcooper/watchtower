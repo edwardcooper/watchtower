{
 "cells": [
  {
   "cell_type": "markdown",
   "metadata": {},
   "source": [
    "The goal of this notebook is to scrape about 500 wikipedia pages with different subcategory labels. "
   ]
  },
  {
   "cell_type": "code",
   "execution_count": 1,
   "metadata": {},
   "outputs": [],
   "source": [
    "from urllib.request import urlopen\n",
    "from bs4 import BeautifulSoup as soup\n",
    "import re\n",
    "import pandas as pd\n",
    "import time"
   ]
  },
  {
   "cell_type": "code",
   "execution_count": 2,
   "metadata": {},
   "outputs": [],
   "source": [
    "master_url = \"https://en.wikipedia.org/wiki/Category:Physics\""
   ]
  },
  {
   "cell_type": "code",
   "execution_count": 3,
   "metadata": {},
   "outputs": [],
   "source": [
    "# a function to get the links for all the subcategories.\n",
    "def wiki_subcategory_links(url):\n",
    "    # Read the page into python with urlopen. Then close the connection afterwards.\n",
    "    wiki_master = urlopen(url).read()\n",
    "    # parse the file as html.\n",
    "    wiki_master_parsed = soup(wiki_master,\"html.parser\")\n",
    "    # find a div with class label CategoryTreeLabel\n",
    "    wiki_subcategories=wiki_master_parsed.findAll(\"a\",{\"class\":\"CategoryTreeLabel\"})\n",
    "    \n",
    "    # get the ref part \n",
    "    subcategory_links = dict()\n",
    "    for subcategory in wiki_subcategories:\n",
    "        # use the text as the key\n",
    "        key = subcategory.text\n",
    "        # get the sublink and add the full https link.\n",
    "        value = \"https://en.wikipedia.org\"+str(subcategory['href'])\n",
    "        \n",
    "        subcategory_links[key] = value\n",
    "\n",
    "    return subcategory_links"
   ]
  },
  {
   "cell_type": "code",
   "execution_count": 4,
   "metadata": {},
   "outputs": [],
   "source": [
    "phys_subcategory_links = wiki_subcategory_links(master_url)"
   ]
  },
  {
   "cell_type": "code",
   "execution_count": 5,
   "metadata": {},
   "outputs": [],
   "source": [
    "def scrape_method_1(html):\n",
    "    # initialize the dictionary\n",
    "    all_article_links = dict() \n",
    "    # find all the div labels with class mw-category-group\n",
    "    wiki_articles = html.findAll('div',{\"id\":\"mw-pages\"})[0].findAll('a')\n",
    "    \n",
    "    for each_article in wiki_articles:\n",
    "        # use the title as dictionary key\n",
    "        key = each_article['title']\n",
    "        # use the full link as dictionary value.\n",
    "        value = \"https://en.wikipedia.org\"+str(each_article['href'])\n",
    "        # assign the key value pair\n",
    "        all_article_links[key] = value\n",
    "                    \n",
    "    return all_article_links  \n",
    "\n",
    "\n",
    "# a function to get the links of all articles from one subcategory\n",
    "def get_wiki_article_links(url):\n",
    "    # Read the page into python with urlopen. Then close the connection afterwards.\n",
    "    wiki_master = urlopen(url).read()\n",
    "    # parse the file as html.\n",
    "    wiki_master_parsed = soup(wiki_master,\"html.parser\") \n",
    "    article_links = dict()\n",
    "    try:\n",
    "        # the first structure to get the links and names\n",
    "        article_links = scrape_method_1(wiki_master_parsed)\n",
    "    except:\n",
    "        print(\"The article pages are empty.\")\n",
    "    return article_links"
   ]
  },
  {
   "cell_type": "code",
   "execution_count": 6,
   "metadata": {},
   "outputs": [],
   "source": [
    "all_wiki_articles = get_wiki_article_links(phys_subcategory_links['Concepts in physics'])"
   ]
  },
  {
   "cell_type": "code",
   "execution_count": 7,
   "metadata": {
    "scrolled": false
   },
   "outputs": [
    {
     "name": "stdout",
     "output_type": "stream",
     "text": [
      "The article pages are empty.\n",
      "The article pages are empty.\n"
     ]
    }
   ],
   "source": [
    "# convert the dictionaries for each subcategory into a dataframe with an index for subdirectory.\n",
    "import pandas as pd\n",
    "\n",
    "wiki_pd = list()\n",
    "\n",
    "for article_name in phys_subcategory_links:\n",
    "    \n",
    "    all_article_in_this_subcategory = get_wiki_article_links(phys_subcategory_links[article_name])\n",
    "    \n",
    "    all_article_in_this_subcategory_df = pd.DataFrame.from_dict(all_article_in_this_subcategory,orient=\"index\")\n",
    "    \n",
    "    all_article_in_this_subcategory_df[\"Subcategory\"] = article_name\n",
    "    \n",
    "    wiki_pd.append(all_article_in_this_subcategory_df)\n"
   ]
  },
  {
   "cell_type": "code",
   "execution_count": 17,
   "metadata": {},
   "outputs": [],
   "source": [
    "wiki_physics = pd.concat(wiki_pd,sort = False).reset_index()"
   ]
  },
  {
   "cell_type": "code",
   "execution_count": 19,
   "metadata": {},
   "outputs": [],
   "source": [
    "wiki_physics.columns = [\"Name\",'Link',\"Subcategory\"]"
   ]
  },
  {
   "cell_type": "code",
   "execution_count": 21,
   "metadata": {},
   "outputs": [
    {
     "data": {
      "text/html": [
       "<div>\n",
       "<style scoped>\n",
       "    .dataframe tbody tr th:only-of-type {\n",
       "        vertical-align: middle;\n",
       "    }\n",
       "\n",
       "    .dataframe tbody tr th {\n",
       "        vertical-align: top;\n",
       "    }\n",
       "\n",
       "    .dataframe thead th {\n",
       "        text-align: right;\n",
       "    }\n",
       "</style>\n",
       "<table border=\"1\" class=\"dataframe\">\n",
       "  <thead>\n",
       "    <tr style=\"text-align: right;\">\n",
       "      <th></th>\n",
       "      <th>Name</th>\n",
       "      <th>Link</th>\n",
       "      <th>Subcategory</th>\n",
       "    </tr>\n",
       "  </thead>\n",
       "  <tbody>\n",
       "    <tr>\n",
       "      <th>0</th>\n",
       "      <td>Wikipedia:FAQ/Categorization</td>\n",
       "      <td>https://en.wikipedia.org/wiki/Wikipedia:FAQ/Ca...</td>\n",
       "      <td>Concepts in physics</td>\n",
       "    </tr>\n",
       "    <tr>\n",
       "      <th>1</th>\n",
       "      <td>Category:Concepts in physics</td>\n",
       "      <td>https://en.wikipedia.org/w/index.php?title=Cat...</td>\n",
       "      <td>Concepts in physics</td>\n",
       "    </tr>\n",
       "    <tr>\n",
       "      <th>2</th>\n",
       "      <td>4D vector</td>\n",
       "      <td>https://en.wikipedia.org/wiki/4D_vector</td>\n",
       "      <td>Concepts in physics</td>\n",
       "    </tr>\n",
       "    <tr>\n",
       "      <th>3</th>\n",
       "      <td>Active and passive transformation</td>\n",
       "      <td>https://en.wikipedia.org/wiki/Active_and_passi...</td>\n",
       "      <td>Concepts in physics</td>\n",
       "    </tr>\n",
       "    <tr>\n",
       "      <th>4</th>\n",
       "      <td>Ansatz</td>\n",
       "      <td>https://en.wikipedia.org/wiki/Ansatz</td>\n",
       "      <td>Concepts in physics</td>\n",
       "    </tr>\n",
       "  </tbody>\n",
       "</table>\n",
       "</div>"
      ],
      "text/plain": [
       "                                Name  \\\n",
       "0       Wikipedia:FAQ/Categorization   \n",
       "1       Category:Concepts in physics   \n",
       "2                          4D vector   \n",
       "3  Active and passive transformation   \n",
       "4                             Ansatz   \n",
       "\n",
       "                                                Link          Subcategory  \n",
       "0  https://en.wikipedia.org/wiki/Wikipedia:FAQ/Ca...  Concepts in physics  \n",
       "1  https://en.wikipedia.org/w/index.php?title=Cat...  Concepts in physics  \n",
       "2            https://en.wikipedia.org/wiki/4D_vector  Concepts in physics  \n",
       "3  https://en.wikipedia.org/wiki/Active_and_passi...  Concepts in physics  \n",
       "4               https://en.wikipedia.org/wiki/Ansatz  Concepts in physics  "
      ]
     },
     "execution_count": 21,
     "metadata": {},
     "output_type": "execute_result"
    }
   ],
   "source": [
    "wiki_physics.head()"
   ]
  },
  {
   "cell_type": "code",
   "execution_count": 20,
   "metadata": {},
   "outputs": [
    {
     "data": {
      "text/plain": [
       "Physics stubs                     202\n",
       "Physical quantities               202\n",
       "Concepts in physics               202\n",
       "Physicists                        156\n",
       "History of physics                136\n",
       "Physics awards                     98\n",
       "Gravitation                        95\n",
       "Unsolved problems in physics       54\n",
       "Physics-related lists              53\n",
       "Equations of physics               50\n",
       "Physical phenomena                 48\n",
       "Physics organizations              42\n",
       "Fringe physics                     40\n",
       "Wikipedia books on physics         33\n",
       "Physics in fiction                 31\n",
       "Subfields of physics               24\n",
       "Physical systems                   22\n",
       "Time in physics                    20\n",
       "Limits of computation              13\n",
       "Physics events                     10\n",
       "Interaction                         9\n",
       "Physics literature                  8\n",
       "Physical properties                 8\n",
       "Physics websites                    7\n",
       "Physics templates                   5\n",
       "Standardized tests for Physics      2\n",
       "Name: Subcategory, dtype: int64"
      ]
     },
     "execution_count": 20,
     "metadata": {},
     "output_type": "execute_result"
    }
   ],
   "source": [
    "wiki_physics['Subcategory'].value_counts()"
   ]
  },
  {
   "cell_type": "code",
   "execution_count": 22,
   "metadata": {},
   "outputs": [],
   "source": [
    "wiki_physics.to_csv(\"wiki_phys_scrape.csv\")"
   ]
  },
  {
   "cell_type": "code",
   "execution_count": null,
   "metadata": {},
   "outputs": [],
   "source": []
  }
 ],
 "metadata": {
  "kernelspec": {
   "display_name": "Python 3",
   "language": "python",
   "name": "python3"
  },
  "language_info": {
   "codemirror_mode": {
    "name": "ipython",
    "version": 3
   },
   "file_extension": ".py",
   "mimetype": "text/x-python",
   "name": "python",
   "nbconvert_exporter": "python",
   "pygments_lexer": "ipython3",
   "version": "3.6.3"
  }
 },
 "nbformat": 4,
 "nbformat_minor": 2
}
