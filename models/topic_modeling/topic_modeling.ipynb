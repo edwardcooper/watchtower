{
 "cells": [
  {
   "cell_type": "markdown",
   "metadata": {},
   "source": [
    "Try use topic modeling to calculate the semantic similarities between the text."
   ]
  },
  {
   "cell_type": "code",
   "execution_count": 1,
   "metadata": {},
   "outputs": [
    {
     "name": "stdout",
     "output_type": "stream",
     "text": [
      "[nltk_data] Downloading package punkt to /home/jovyan/nltk_data...\n",
      "[nltk_data]   Package punkt is already up-to-date!\n"
     ]
    }
   ],
   "source": [
    "import pandas as pd\n",
    "import numpy as np\n",
    "\n",
    "import matplotlib.pyplot as plt\n",
    "import seaborn as sns\n",
    "\n",
    "from sklearn.model_selection import train_test_split\n",
    "\n",
    "from sklearn.feature_extraction import text \n",
    "\n",
    "import nltk\n",
    "nltk.download('punkt')\n",
    "\n",
    "\n",
    "from sklearn.decomposition import LatentDirichletAllocation as LDA\n",
    "from sklearn.decomposition import NMF\n",
    "# improve the model with lemmatization \n",
    "# use a different vectorizer. \n",
    "\n",
    "from nltk import word_tokenize          \n",
    "from nltk.stem import WordNetLemmatizer \n",
    "class LemmaTokenizer(object):\n",
    "    def __init__(self):\n",
    "        self.wnl = WordNetLemmatizer()\n",
    "    def __call__(self, articles):\n",
    "        return [self.wnl.lemmatize(t) for t in word_tokenize(articles)]\n",
    "\n",
    "count_vectorizer = text.CountVectorizer(tokenizer=LemmaTokenizer(),\n",
    "                                strip_accents = 'unicode', # works \n",
    "                                stop_words = 'english', # works\n",
    "                                lowercase = True, # works\n",
    "                                max_df = 0.5, # works\n",
    "                                min_df = 10) # works\n",
    "\n",
    "\n",
    "tfidf_vectorizer = text.TfidfVectorizer(tokenizer=LemmaTokenizer(),\n",
    "                                strip_accents = 'unicode', # works \n",
    "                                stop_words = 'english', # works\n",
    "                                lowercase = True, # works\n",
    "                                max_df = 0.5, # works\n",
    "                                min_df = 10) # works"
   ]
  },
  {
   "cell_type": "code",
   "execution_count": 2,
   "metadata": {},
   "outputs": [],
   "source": [
    "wiki_phys = pd.read_csv(\"../../nlp_clean/wiki_phys_cleaned.csv\")\n",
    "wiki_phys.drop_duplicates(\"Name\",inplace=True)"
   ]
  },
  {
   "cell_type": "code",
   "execution_count": 3,
   "metadata": {},
   "outputs": [],
   "source": [
    "wiki_phys_X, wiki_phys_X_test, wiki_phys_y, wiki_phys_y_test = train_test_split(wiki_phys.drop(\"Subcategory\",axis=1), wiki_phys[\"Subcategory\"],\n",
    "                                                                                test_size=0.3, random_state=7, stratify =  wiki_phys[\"Subcategory\"])"
   ]
  },
  {
   "cell_type": "code",
   "execution_count": 4,
   "metadata": {},
   "outputs": [],
   "source": [
    "wiki_phys = pd.concat([wiki_phys_X,wiki_phys_y], axis=1)"
   ]
  },
  {
   "cell_type": "code",
   "execution_count": 5,
   "metadata": {
    "scrolled": false
   },
   "outputs": [
    {
     "data": {
      "text/html": [
       "<div>\n",
       "<style scoped>\n",
       "    .dataframe tbody tr th:only-of-type {\n",
       "        vertical-align: middle;\n",
       "    }\n",
       "\n",
       "    .dataframe tbody tr th {\n",
       "        vertical-align: top;\n",
       "    }\n",
       "\n",
       "    .dataframe thead th {\n",
       "        text-align: right;\n",
       "    }\n",
       "</style>\n",
       "<table border=\"1\" class=\"dataframe\">\n",
       "  <thead>\n",
       "    <tr style=\"text-align: right;\">\n",
       "      <th></th>\n",
       "      <th>Name</th>\n",
       "      <th>Link</th>\n",
       "      <th>Text</th>\n",
       "      <th>Length</th>\n",
       "      <th>Reference</th>\n",
       "      <th>Subcategory</th>\n",
       "    </tr>\n",
       "  </thead>\n",
       "  <tbody>\n",
       "    <tr>\n",
       "      <th>452</th>\n",
       "      <td>Nishina Memorial Prize</td>\n",
       "      <td>https://en.wikipedia.org/wiki/Nishina_Memorial...</td>\n",
       "      <td>nishina memorial prize 仁科記念賞 nishina kinenshō ...</td>\n",
       "      <td>159</td>\n",
       "      <td>['Yoshio Nishina', 'Hideki Yukawa', 'Sin-Itiro...</td>\n",
       "      <td>Physics awards</td>\n",
       "    </tr>\n",
       "    <tr>\n",
       "      <th>692</th>\n",
       "      <td>Schrödinger–Newton equation</td>\n",
       "      <td>https://en.wikipedia.org/wiki/Schr%C3%B6dinger...</td>\n",
       "      <td>equation sometimes referred equation nonlinear...</td>\n",
       "      <td>2174</td>\n",
       "      <td>['Schrödinger equation', 'Newtonian gravity', ...</td>\n",
       "      <td>Gravitation</td>\n",
       "    </tr>\n",
       "    <tr>\n",
       "      <th>1125</th>\n",
       "      <td>Intensive and extensive properties</td>\n",
       "      <td>https://en.wikipedia.org/wiki/Intensive_and_ex...</td>\n",
       "      <td>physical property material system often catego...</td>\n",
       "      <td>1935</td>\n",
       "      <td>['Physical properties', 'System', 'Internation...</td>\n",
       "      <td>Physical quantities</td>\n",
       "    </tr>\n",
       "    <tr>\n",
       "      <th>80</th>\n",
       "      <td>Fine-structure constant</td>\n",
       "      <td>https://en.wikipedia.org/wiki/Fine-structure_c...</td>\n",
       "      <td>physic constant also known sommerfeld constant...</td>\n",
       "      <td>3056</td>\n",
       "      <td>['Physics', 'Alpha', 'Dimensionless physical c...</td>\n",
       "      <td>Concepts in physics</td>\n",
       "    </tr>\n",
       "    <tr>\n",
       "      <th>1249</th>\n",
       "      <td>Synchro-Ciné</td>\n",
       "      <td>https://en.wikipedia.org/wiki/Synchro-Cin%C3%A9</td>\n",
       "      <td>device invented french inventor charles delaco...</td>\n",
       "      <td>1023</td>\n",
       "      <td>['French people', 'Charles Delacommune', 'Movi...</td>\n",
       "      <td>Physical systems</td>\n",
       "    </tr>\n",
       "  </tbody>\n",
       "</table>\n",
       "</div>"
      ],
      "text/plain": [
       "                                    Name  \\\n",
       "452               Nishina Memorial Prize   \n",
       "692          Schrödinger–Newton equation   \n",
       "1125  Intensive and extensive properties   \n",
       "80               Fine-structure constant   \n",
       "1249                        Synchro-Ciné   \n",
       "\n",
       "                                                   Link  \\\n",
       "452   https://en.wikipedia.org/wiki/Nishina_Memorial...   \n",
       "692   https://en.wikipedia.org/wiki/Schr%C3%B6dinger...   \n",
       "1125  https://en.wikipedia.org/wiki/Intensive_and_ex...   \n",
       "80    https://en.wikipedia.org/wiki/Fine-structure_c...   \n",
       "1249    https://en.wikipedia.org/wiki/Synchro-Cin%C3%A9   \n",
       "\n",
       "                                                   Text  Length  \\\n",
       "452   nishina memorial prize 仁科記念賞 nishina kinenshō ...     159   \n",
       "692   equation sometimes referred equation nonlinear...    2174   \n",
       "1125  physical property material system often catego...    1935   \n",
       "80    physic constant also known sommerfeld constant...    3056   \n",
       "1249  device invented french inventor charles delaco...    1023   \n",
       "\n",
       "                                              Reference          Subcategory  \n",
       "452   ['Yoshio Nishina', 'Hideki Yukawa', 'Sin-Itiro...       Physics awards  \n",
       "692   ['Schrödinger equation', 'Newtonian gravity', ...          Gravitation  \n",
       "1125  ['Physical properties', 'System', 'Internation...  Physical quantities  \n",
       "80    ['Physics', 'Alpha', 'Dimensionless physical c...  Concepts in physics  \n",
       "1249  ['French people', 'Charles Delacommune', 'Movi...     Physical systems  "
      ]
     },
     "execution_count": 5,
     "metadata": {},
     "output_type": "execute_result"
    }
   ],
   "source": [
    "wiki_phys.head()"
   ]
  },
  {
   "cell_type": "code",
   "execution_count": 6,
   "metadata": {},
   "outputs": [],
   "source": [
    "wiki_phys_test = pd.concat([wiki_phys_X_test,wiki_phys_y_test], axis=1)"
   ]
  },
  {
   "cell_type": "code",
   "execution_count": 7,
   "metadata": {},
   "outputs": [
    {
     "data": {
      "text/plain": [
       "26"
      ]
     },
     "execution_count": 7,
     "metadata": {},
     "output_type": "execute_result"
    }
   ],
   "source": [
    "len(wiki_phys['Subcategory'].value_counts())"
   ]
  },
  {
   "cell_type": "markdown",
   "metadata": {},
   "source": [
    "## Using LDA mode with CountVectorizer"
   ]
  },
  {
   "cell_type": "code",
   "execution_count": 8,
   "metadata": {},
   "outputs": [],
   "source": [
    "data_count_vectorized=count_vectorizer.fit_transform(wiki_phys['Text'].values.astype('U'))\n",
    "\n",
    "lda_model_count=LDA(n_components=26\n",
    "              ,max_iter=100,learning_method='batch').fit(data_count_vectorized)"
   ]
  },
  {
   "cell_type": "markdown",
   "metadata": {},
   "source": [
    "## Using LDA model with TfidfVectorizer"
   ]
  },
  {
   "cell_type": "code",
   "execution_count": 9,
   "metadata": {},
   "outputs": [],
   "source": [
    "data_tfidf_vectorized=tfidf_vectorizer.fit_transform(wiki_phys['Text'].values.astype('U'))\n",
    "lda_model_tfidf=LDA(n_components=26\n",
    "              ,max_iter=100,learning_method='batch').fit(data_tfidf_vectorized)"
   ]
  },
  {
   "cell_type": "code",
   "execution_count": 10,
   "metadata": {},
   "outputs": [],
   "source": [
    "def print_topics(model, vectorizer, top_n=10):\n",
    "    for idx, topic in enumerate(model.components_):\n",
    "        print(\"Topic %d:\" % (idx))\n",
    "        print([(vectorizer.get_feature_names()[i], topic[i])\n",
    "                        for i in topic.argsort()[:-top_n - 1:-1]])"
   ]
  },
  {
   "cell_type": "markdown",
   "metadata": {},
   "source": [
    "# Using NMF models with TfidfVectorizer "
   ]
  },
  {
   "cell_type": "code",
   "execution_count": 11,
   "metadata": {},
   "outputs": [],
   "source": [
    "nmf_model_tfidf=NMF(n_components=26).fit(data_tfidf_vectorized)"
   ]
  },
  {
   "cell_type": "markdown",
   "metadata": {},
   "source": [
    "# Using NMF with CountVectorizer "
   ]
  },
  {
   "cell_type": "code",
   "execution_count": 12,
   "metadata": {},
   "outputs": [],
   "source": [
    "nmf_model_count=NMF(n_components=26).fit(data_count_vectorized)"
   ]
  },
  {
   "cell_type": "code",
   "execution_count": 13,
   "metadata": {},
   "outputs": [],
   "source": [
    "#print_topics(lda_model_count, count_vectorizer)\n",
    "\n",
    "#print_topics(lda_model_tfidf, count_vectorizer)"
   ]
  },
  {
   "cell_type": "markdown",
   "metadata": {},
   "source": [
    "Some of the grouped key words indeed made sense. But how to measure the model's performance? "
   ]
  },
  {
   "cell_type": "markdown",
   "metadata": {},
   "source": [
    "# define the average precision metric\n",
    "\n",
    "The averaged precision metric is defined as the averaged precision for top 1, top2, top3 ...top10 of the recommended articles to be in the same subcategory as the one you are reading. \n",
    "\n",
    "It is not a perfect metric since you might want diversity in the category you read and relevant articles are not always in the same category. But it is a good metric to use for the first iteration of the recommendation engine. "
   ]
  },
  {
   "cell_type": "code",
   "execution_count": 14,
   "metadata": {},
   "outputs": [],
   "source": [
    "from sklearn.metrics.pairwise import cosine_similarity as cos_sim\n",
    "\n",
    "def top_n_index_sorted(array, top_n):\n",
    "    # get the index of top 10 values in the array\n",
    "    index = np.argpartition(array,-top_n)[-top_n:]\n",
    "    \n",
    "    # return the index of the sorted top_n values \n",
    "    return index[np.argsort(array[index])]\n",
    "\n",
    "def top10_recommend_index(index,model,data,top_n):\n",
    "    # transform the data using the model\n",
    "    lda_vectors=model.transform(data)\n",
    "    # calculate the cos similarity from the lda vectors \n",
    "    similarity=cos_sim(lda_vectors)\n",
    "    \n",
    "    top_n_index=top_n_index_sorted(similarity[index,],top_n+1)\n",
    "    \n",
    "    # get the decreasing similarity index\n",
    "    return top_n_index[::-1]    \n",
    "# example \n",
    "# top10_recommend_index(2,lda_model_2,data_count_vectorized,10)\n"
   ]
  },
  {
   "cell_type": "code",
   "execution_count": 15,
   "metadata": {},
   "outputs": [
    {
     "data": {
      "text/plain": [
       "array([   1,  747,   56,  963,  249,  184,  143,  721, 1021,  569, 1069])"
      ]
     },
     "execution_count": 15,
     "metadata": {},
     "output_type": "execute_result"
    }
   ],
   "source": [
    "top10_recommend_index(1,lda_model_count,data_count_vectorized,10)"
   ]
  },
  {
   "cell_type": "code",
   "execution_count": 16,
   "metadata": {},
   "outputs": [],
   "source": [
    "def top10_precision(top_n_index,data):\n",
    "    \n",
    "    # get the subcategory data\n",
    "    recommended_subcategory = wiki_phys[\"Subcategory\"].iloc[top_n_index]\n",
    "    recommended_subcategory = recommended_subcategory.values\n",
    "\n",
    "    \n",
    "    return sum(recommended_subcategory[0]==recommended_subcategory[1:])/len(recommended_subcategory[1:])\n"
   ]
  },
  {
   "cell_type": "code",
   "execution_count": 17,
   "metadata": {},
   "outputs": [
    {
     "data": {
      "text/plain": [
       "0.0"
      ]
     },
     "execution_count": 17,
     "metadata": {},
     "output_type": "execute_result"
    }
   ],
   "source": [
    "top10_precision(top10_recommend_index(4,lda_model_count,data_count_vectorized,10), wiki_phys)"
   ]
  },
  {
   "cell_type": "code",
   "execution_count": 18,
   "metadata": {},
   "outputs": [],
   "source": [
    "# for the progress bar\n",
    "from tqdm import tqdm\n",
    "\n",
    "def precision_list(data,model,vectorized_text):\n",
    "    \n",
    "    length = data.shape[0]\n",
    "    # initialize the list \n",
    "    precision = [0]*length\n",
    "    \n",
    "\n",
    "    for i in tqdm(range(length)):\n",
    "        precision[i] = top10_precision(top10_recommend_index(i,model,vectorized_text,10), data)\n",
    "    \n",
    "    return precision    "
   ]
  },
  {
   "cell_type": "markdown",
   "metadata": {},
   "source": [
    "## Vectorized the test data "
   ]
  },
  {
   "cell_type": "code",
   "execution_count": 19,
   "metadata": {},
   "outputs": [],
   "source": [
    "tfidf_test_vectorized = tfidf_vectorizer.transform(wiki_phys_test['Text'].values.astype('U'))\n",
    "\n",
    "count_test_vectorized = count_vectorizer.transform(wiki_phys_test['Text'].values.astype('U'))"
   ]
  },
  {
   "cell_type": "markdown",
   "metadata": {},
   "source": [
    "## Calculate the performance on the test data"
   ]
  },
  {
   "cell_type": "code",
   "execution_count": 20,
   "metadata": {},
   "outputs": [
    {
     "name": "stderr",
     "output_type": "stream",
     "text": [
      "100%|██████████| 471/471 [00:18<00:00, 24.85it/s]\n"
     ]
    }
   ],
   "source": [
    "lda_tfidf_precision = precision_list(wiki_phys_test,lda_model_tfidf,tfidf_test_vectorized)"
   ]
  },
  {
   "cell_type": "code",
   "execution_count": 21,
   "metadata": {},
   "outputs": [
    {
     "name": "stderr",
     "output_type": "stream",
     "text": [
      "100%|██████████| 471/471 [03:47<00:00,  2.11it/s]\n"
     ]
    }
   ],
   "source": [
    "lda_count_precision = precision_list(wiki_phys_test,lda_model_count,data_count_vectorized)"
   ]
  },
  {
   "cell_type": "code",
   "execution_count": 22,
   "metadata": {},
   "outputs": [
    {
     "name": "stderr",
     "output_type": "stream",
     "text": [
      "100%|██████████| 471/471 [00:28<00:00, 16.30it/s]\n"
     ]
    }
   ],
   "source": [
    "nmf_count_precision = precision_list(wiki_phys_test,nmf_model_count,data_count_vectorized)"
   ]
  },
  {
   "cell_type": "code",
   "execution_count": 23,
   "metadata": {},
   "outputs": [
    {
     "name": "stderr",
     "output_type": "stream",
     "text": [
      "100%|██████████| 471/471 [00:11<00:00, 40.33it/s]\n"
     ]
    }
   ],
   "source": [
    "nmf_tfidf_precision = precision_list(wiki_phys_test,nmf_model_tfidf,tfidf_test_vectorized)"
   ]
  },
  {
   "cell_type": "code",
   "execution_count": 24,
   "metadata": {},
   "outputs": [],
   "source": [
    "precision_df = pd.DataFrame()\n",
    "\n",
    "precision_df[\"lda_tfidf\"] = pd.Series(lda_tfidf_precision)\n",
    "precision_df['lda_count'] = pd.Series(lda_count_precision)\n",
    "precision_df['nmf_tfidf'] = pd.Series(nmf_tfidf_precision)\n",
    "precision_df['nmf_count'] = pd.Series(nmf_count_precision)"
   ]
  },
  {
   "cell_type": "code",
   "execution_count": 25,
   "metadata": {},
   "outputs": [
    {
     "data": {
      "text/plain": [
       "<matplotlib.axes._subplots.AxesSubplot at 0x7fc79536e2b0>"
      ]
     },
     "execution_count": 25,
     "metadata": {},
     "output_type": "execute_result"
    },
    {
     "data": {
      "image/png": "[encoded data removed]",
      "text/plain": [
       "<Figure size 432x288 with 1 Axes>"
      ]
     },
     "metadata": {},
     "output_type": "display_data"
    }
   ],
   "source": [
    "sns.boxplot(data=precision_df, orient=\"h\")"
   ]
  },
  {
   "cell_type": "code",
   "execution_count": 32,
   "metadata": {},
   "outputs": [
    {
     "data": {
      "text/plain": [
       "Text(0.5,0,'Precision distribution for different algorithm with different vectorizer')"
      ]
     },
     "execution_count": 32,
     "metadata": {},
     "output_type": "execute_result"
    },
    {
     "data": {
      "image/png": "[encoded data removed]",
      "text/plain": [
       "<Figure size 720x576 with 1 Axes>"
      ]
     },
     "metadata": {},
     "output_type": "display_data"
    }
   ],
   "source": [
    "plt.figure(figsize=(10,8))\n",
    "\n",
    "sns.violinplot(data=precision_df, orient=\"h\")\n",
    "plt.xlim(0,1)\n",
    "plt.xlabel(\"Precision distribution for different algorithm with different vectorizer\")"
   ]
  },
  {
   "cell_type": "code",
   "execution_count": null,
   "metadata": {},
   "outputs": [],
   "source": []
  }
 ],
 "metadata": {
  "kernelspec": {
   "display_name": "Python 3",
   "language": "python",
   "name": "python3"
  },
  "language_info": {
   "codemirror_mode": {
    "name": "ipython",
    "version": 3
   },
   "file_extension": ".py",
   "mimetype": "text/x-python",
   "name": "python",
   "nbconvert_exporter": "python",
   "pygments_lexer": "ipython3",
   "version": "3.6.3"
  }
 },
 "nbformat": 4,
 "nbformat_minor": 2
}
