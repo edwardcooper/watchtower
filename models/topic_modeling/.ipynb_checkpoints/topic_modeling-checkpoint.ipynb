{
 "cells": [
  {
   "cell_type": "markdown",
   "metadata": {},
   "source": [
    "Try use topic modeling to calculate the semantic similarities between the text."
   ]
  },
  {
   "cell_type": "code",
   "execution_count": 1,
   "metadata": {},
   "outputs": [
    {
     "name": "stdout",
     "output_type": "stream",
     "text": [
      "[nltk_data] Downloading package punkt to /home/jovyan/nltk_data...\n",
      "[nltk_data]   Package punkt is already up-to-date!\n"
     ]
    }
   ],
   "source": [
    "import pandas as pd\n",
    "import numpy as np\n",
    "\n",
    "import matplotlib.pyplot as plt\n",
    "import seaborn as sns\n",
    "\n",
    "from sklearn.model_selection import train_test_split\n",
    "\n",
    "from sklearn.feature_extraction import text \n",
    "\n",
    "import nltk\n",
    "nltk.download('punkt')\n",
    "\n",
    "\n",
    "from sklearn.decomposition import LatentDirichletAllocation as LDA\n",
    "from sklearn.decomposition import NMF\n",
    "# improve the model with lemmatization \n",
    "# use a different vectorizer. \n",
    "\n",
    "from nltk import word_tokenize          \n",
    "from nltk.stem import WordNetLemmatizer \n",
    "class LemmaTokenizer(object):\n",
    "    def __init__(self):\n",
    "        self.wnl = WordNetLemmatizer()\n",
    "    def __call__(self, articles):\n",
    "        return [self.wnl.lemmatize(t) for t in word_tokenize(articles)]\n",
    "\n",
    "count_vectorizer = text.CountVectorizer(tokenizer=LemmaTokenizer(),\n",
    "                                strip_accents = 'unicode', # works \n",
    "                                stop_words = 'english', # works\n",
    "                                lowercase = True, # works\n",
    "                                max_df = 0.5, # works\n",
    "                                min_df = 10) # works\n",
    "\n",
    "\n",
    "tfidf_vectorizer = text.TfidfVectorizer(tokenizer=LemmaTokenizer(),\n",
    "                                strip_accents = 'unicode', # works \n",
    "                                stop_words = 'english', # works\n",
    "                                lowercase = True, # works\n",
    "                                max_df = 0.5, # works\n",
    "                                min_df = 10) # works"
   ]
  },
  {
   "cell_type": "code",
   "execution_count": 2,
   "metadata": {},
   "outputs": [],
   "source": [
    "wiki_phys = pd.read_csv(\"../../nlp_clean/wiki_phys_cleaned.csv\")\n",
    "wiki_phys.drop_duplicates(\"Name\",inplace=True)"
   ]
  },
  {
   "cell_type": "code",
   "execution_count": 3,
   "metadata": {},
   "outputs": [],
   "source": [
    "# did not stratify since The least populated class in y has only 1 member, which is too few.\n",
    "wiki_phys_X, wiki_phys_X_test, wiki_phys_y, wiki_phys_y_test = train_test_split(wiki_phys.drop(\"Subcategory\",axis=1), wiki_phys[\"Subcategory\"],\n",
    "                                                                                test_size=0.3, random_state=7)"
   ]
  },
  {
   "cell_type": "code",
   "execution_count": 4,
   "metadata": {},
   "outputs": [],
   "source": [
    "wiki_phys = pd.concat([wiki_phys_X,wiki_phys_y], axis=1)"
   ]
  },
  {
   "cell_type": "code",
   "execution_count": 5,
   "metadata": {
    "scrolled": false
   },
   "outputs": [
    {
     "data": {
      "text/html": [
       "<div>\n",
       "<style scoped>\n",
       "    .dataframe tbody tr th:only-of-type {\n",
       "        vertical-align: middle;\n",
       "    }\n",
       "\n",
       "    .dataframe tbody tr th {\n",
       "        vertical-align: top;\n",
       "    }\n",
       "\n",
       "    .dataframe thead th {\n",
       "        text-align: right;\n",
       "    }\n",
       "</style>\n",
       "<table border=\"1\" class=\"dataframe\">\n",
       "  <thead>\n",
       "    <tr style=\"text-align: right;\">\n",
       "      <th></th>\n",
       "      <th>Name</th>\n",
       "      <th>Link</th>\n",
       "      <th>Text</th>\n",
       "      <th>Length</th>\n",
       "      <th>Reference</th>\n",
       "      <th>Subcategory</th>\n",
       "    </tr>\n",
       "  </thead>\n",
       "  <tbody>\n",
       "    <tr>\n",
       "      <th>1175</th>\n",
       "      <td>Noise-equivalent flux density</td>\n",
       "      <td>https://en.wikipedia.org/wiki/Noise-equivalent...</td>\n",
       "      <td>optic flux density nefd irradiance nei system ...</td>\n",
       "      <td>145</td>\n",
       "      <td>['Optics', 'Flux', 'Signal noise', 'Noise-equi...</td>\n",
       "      <td>Physical quantities</td>\n",
       "    </tr>\n",
       "    <tr>\n",
       "      <th>1226</th>\n",
       "      <td>Sound power</td>\n",
       "      <td>https://en.wikipedia.org/wiki/Sound_power</td>\n",
       "      <td>sound power acoustic power rate sound energy e...</td>\n",
       "      <td>739</td>\n",
       "      <td>['Sound energy', 'International System of Unit...</td>\n",
       "      <td>Physical quantities</td>\n",
       "    </tr>\n",
       "    <tr>\n",
       "      <th>303</th>\n",
       "      <td>Arthur Jaffe</td>\n",
       "      <td>https://en.wikipedia.org/wiki/Arthur_Jaffe</td>\n",
       "      <td>arthur michael jaffe born december american ma...</td>\n",
       "      <td>409</td>\n",
       "      <td>['Help:IPA/English', 'United States', 'Mathema...</td>\n",
       "      <td>Physicists</td>\n",
       "    </tr>\n",
       "    <tr>\n",
       "      <th>1189</th>\n",
       "      <td>Phase (waves)</td>\n",
       "      <td>https://en.wikipedia.org/wiki/Phase_(waves)</td>\n",
       "      <td>phase position point time instant waveform cyc...</td>\n",
       "      <td>1119</td>\n",
       "      <td>['Waveform', 'Turn (geometry)', 'Radian', 'Dis...</td>\n",
       "      <td>Physical quantities</td>\n",
       "    </tr>\n",
       "    <tr>\n",
       "      <th>1105</th>\n",
       "      <td>Frequency</td>\n",
       "      <td>https://en.wikipedia.org/wiki/Frequency</td>\n",
       "      <td>frequency number occurrence repeating event pe...</td>\n",
       "      <td>1721</td>\n",
       "      <td>['Unit of time', 'Spatial frequency', 'Angular...</td>\n",
       "      <td>Physical quantities</td>\n",
       "    </tr>\n",
       "  </tbody>\n",
       "</table>\n",
       "</div>"
      ],
      "text/plain": [
       "                               Name  \\\n",
       "1175  Noise-equivalent flux density   \n",
       "1226                    Sound power   \n",
       "303                    Arthur Jaffe   \n",
       "1189                  Phase (waves)   \n",
       "1105                      Frequency   \n",
       "\n",
       "                                                   Link  \\\n",
       "1175  https://en.wikipedia.org/wiki/Noise-equivalent...   \n",
       "1226          https://en.wikipedia.org/wiki/Sound_power   \n",
       "303          https://en.wikipedia.org/wiki/Arthur_Jaffe   \n",
       "1189        https://en.wikipedia.org/wiki/Phase_(waves)   \n",
       "1105            https://en.wikipedia.org/wiki/Frequency   \n",
       "\n",
       "                                                   Text  Length  \\\n",
       "1175  optic flux density nefd irradiance nei system ...     145   \n",
       "1226  sound power acoustic power rate sound energy e...     739   \n",
       "303   arthur michael jaffe born december american ma...     409   \n",
       "1189  phase position point time instant waveform cyc...    1119   \n",
       "1105  frequency number occurrence repeating event pe...    1721   \n",
       "\n",
       "                                              Reference          Subcategory  \n",
       "1175  ['Optics', 'Flux', 'Signal noise', 'Noise-equi...  Physical quantities  \n",
       "1226  ['Sound energy', 'International System of Unit...  Physical quantities  \n",
       "303   ['Help:IPA/English', 'United States', 'Mathema...           Physicists  \n",
       "1189  ['Waveform', 'Turn (geometry)', 'Radian', 'Dis...  Physical quantities  \n",
       "1105  ['Unit of time', 'Spatial frequency', 'Angular...  Physical quantities  "
      ]
     },
     "execution_count": 5,
     "metadata": {},
     "output_type": "execute_result"
    }
   ],
   "source": [
    "wiki_phys.head()"
   ]
  },
  {
   "cell_type": "code",
   "execution_count": 6,
   "metadata": {},
   "outputs": [],
   "source": [
    "wiki_phys_test = pd.concat([wiki_phys_X_test,wiki_phys_y_test], axis=1)"
   ]
  },
  {
   "cell_type": "code",
   "execution_count": 7,
   "metadata": {},
   "outputs": [
    {
     "data": {
      "text/plain": [
       "26"
      ]
     },
     "execution_count": 7,
     "metadata": {},
     "output_type": "execute_result"
    }
   ],
   "source": [
    "len(wiki_phys['Subcategory'].value_counts())"
   ]
  },
  {
   "cell_type": "markdown",
   "metadata": {},
   "source": [
    "## Using LDA mode with CountVectorizer"
   ]
  },
  {
   "cell_type": "code",
   "execution_count": 8,
   "metadata": {},
   "outputs": [],
   "source": [
    "data_count_vectorized=count_vectorizer.fit_transform(wiki_phys['Text'].values.astype('U'))\n",
    "\n",
    "lda_model_count=LDA(n_components=26\n",
    "              ,max_iter=100,learning_method='batch').fit(data_count_vectorized)"
   ]
  },
  {
   "cell_type": "markdown",
   "metadata": {},
   "source": [
    "## Using LDA model with TfidfVectorizer"
   ]
  },
  {
   "cell_type": "code",
   "execution_count": 9,
   "metadata": {},
   "outputs": [],
   "source": [
    "data_tfidf_vectorized=tfidf_vectorizer.fit_transform(wiki_phys['Text'].values.astype('U'))\n",
    "lda_model_tfidf=LDA(n_components=26\n",
    "              ,max_iter=100,learning_method='batch').fit(data_tfidf_vectorized)"
   ]
  },
  {
   "cell_type": "code",
   "execution_count": 10,
   "metadata": {},
   "outputs": [],
   "source": [
    "def print_topics(model, vectorizer, top_n=10):\n",
    "    for idx, topic in enumerate(model.components_):\n",
    "        print(\"Topic %d:\" % (idx))\n",
    "        print([(vectorizer.get_feature_names()[i], topic[i])\n",
    "                        for i in topic.argsort()[:-top_n - 1:-1]])"
   ]
  },
  {
   "cell_type": "markdown",
   "metadata": {},
   "source": [
    "# Using NMF models with TfidfVectorizer "
   ]
  },
  {
   "cell_type": "code",
   "execution_count": 11,
   "metadata": {},
   "outputs": [],
   "source": [
    "nmf_model_tfidf=NMF(n_components=26).fit(data_tfidf_vectorized)"
   ]
  },
  {
   "cell_type": "markdown",
   "metadata": {},
   "source": [
    "# Using NMF with CountVectorizer "
   ]
  },
  {
   "cell_type": "code",
   "execution_count": 12,
   "metadata": {},
   "outputs": [],
   "source": [
    "nmf_model_count=NMF(n_components=26).fit(data_count_vectorized)"
   ]
  },
  {
   "cell_type": "code",
   "execution_count": 27,
   "metadata": {},
   "outputs": [
    {
     "name": "stdout",
     "output_type": "stream",
     "text": [
      "Topic 0:\n",
      "[('university', 436.78472875758013), ('research', 354.72159304662955), ('prize', 338.9651944843306), ('science', 333.94528455018326), ('awarded', 273.25767883717447), ('society', 257.33392822628832), ('award', 223.22731656224687), ('american', 211.40990780571119), ('physicist', 203.47422634584797), ('physical', 200.86641557926083)]\n",
      "Topic 1:\n",
      "[('theory', 418.24832351977886), ('experiment', 316.37989710161145), ('work', 313.6034497984453), ('century', 261.59857687984703), ('later', 244.84807445679314), ('published', 209.34590484495914), ('book', 194.72787473714197), ('time', 192.00473704490676), ('element', 182.18696779851848), ('idea', 181.96567471000415)]\n",
      "Topic 2:\n",
      "[('equation', 1931.8373765769581), ('solution', 435.87761128722684), ('function', 392.74745458656298), ('term', 346.42155443806229), ('problem', 292.6274724791939), ('coefficient', 268.18950033418173), ('form', 262.46757091087596), ('density', 229.19493092702984), ('used', 220.33319798951499), ('number', 216.2070621774312)]\n",
      "Topic 3:\n",
      "[('field', 1626.0034364588053), ('charge', 889.88140781480433), ('electric', 788.50626674960768), ('force', 677.21144065272972), ('electromagnetic', 404.4060749066636), ('potential', 391.00795219267377), ('current', 360.37012462709168), ('equation', 299.28373297792632), ('particle', 257.66429993123808), ('maxwell', 245.50012516671552)]\n",
      "Topic 4:\n",
      "[('object', 383.26647870598458), ('distance', 370.69476606188692), ('time', 344.3355548087743), ('observer', 321.89190811885692), ('light', 222.502832785908), ('speed', 197.88280226788527), ('redshift', 195.18457327074688), ('velocity', 191.13848662537282), ('length', 190.11720839035496), ('frame', 182.50391573748757)]\n",
      "Topic 5:\n",
      "[('heat', 1031.962741576169), ('temperature', 985.67255720190576), ('pressure', 678.91748924406647), ('water', 518.87939674613892), ('gas', 389.11846900432721), ('flow', 359.38703897746711), ('liquid', 341.7024946418444), ('transfer', 328.13085081040555), ('internal', 321.63610858276417), ('density', 312.54326735235179)]\n",
      "Topic 6:\n",
      "[('force', 1637.6534570675383), ('mass', 1153.8453635382689), ('body', 847.41248510506796), ('object', 804.14095414701887), ('motion', 654.7846801143761), ('gravitational', 600.48062000000016), ('newton', 531.66877405132027), ('acceleration', 525.28594818299905), ('earth', 522.39445488700994), ('gravity', 485.07647863554149)]\n",
      "Topic 7:\n",
      "[('transformation', 672.25781397624758), ('lorentz', 432.03980119383573), ('metric', 295.91068030819042), ('coordinate', 295.15933841506813), ('group', 290.6416873395047), ('form', 271.34637821666422), ('matrix', 223.64867125587045), ('invariant', 159.8959389091315), ('space', 157.42088120290751), ('minkowski', 154.27427143893843)]\n",
      "Topic 8:\n",
      "[('time', 477.97703264029502), ('clock', 97.448498312940515), ('event', 92.140114687345459), ('second', 76.098411208153763), ('space', 74.8309463966973), ('fiction', 55.992235051050386), ('travel', 53.226709521060556), ('novel', 52.024889679376479), ('used', 51.901206066399119), ('speed', 48.145277394592057)]\n",
      "Topic 9:\n",
      "[('magnetic', 1171.1938957064287), ('field', 694.46972006248336), ('moment', 267.83164839224992), ('line', 205.00515140406995), ('material', 177.6912298338801), ('diagram', 167.13899303045901), ('dipole', 162.45542526608767), ('magnet', 157.33019557355456), ('integral', 152.78076927303195), ('pole', 150.80561598528027)]\n",
      "Topic 10:\n",
      "[('theory', 682.65871497607634), ('particle', 619.99252724077746), ('model', 522.12385855947741), ('matter', 520.90391173165642), ('interaction', 365.94545820063519), ('mass', 281.37799041631359), ('constant', 269.01527030389212), ('standard', 266.56148639683443), ('category', 214.45631833043211), ('dark', 203.95940824133183)]\n",
      "Topic 11:\n",
      "[('particle', 374.75882991830633), ('negative', 299.29813004967866), ('quark', 298.33901376191551), ('energy', 295.01206043832349), ('nucleus', 250.48900722922755), ('proton', 247.19328702047954), ('electron', 209.76512284656735), ('mass', 204.83454564565847), ('nuclear', 191.8784740841981), ('neutron', 164.13391591978734)]\n",
      "Topic 12:\n",
      "[('unit', 582.39921144621758), ('surface', 467.72030711224556), ('used', 296.22171973400737), ('flux', 283.98605532919339), ('area', 210.69864208445145), ('measure', 189.10681154895531), ('defined', 175.40125046588372), ('radiation', 166.62838880314192), ('frequency', 139.83339565015433), ('standard', 117.69526280591803)]\n",
      "Topic 13:\n",
      "[('energy', 743.00900957884437), ('particle', 632.06767967151848), ('state', 362.49523185869987), ('number', 310.13420202232709), ('phase', 281.0021988156272), ('density', 243.80220887471441), ('function', 241.5861133091644), ('fermi', 192.0172836114069), ('gas', 176.96812166759588), ('temperature', 176.83974646901228)]\n",
      "Topic 14:\n",
      "[('energy', 360.64321901285075), ('effect', 274.51788817865526), ('plasma', 232.10993279261859), ('device', 184.65834336578445), ('reaction', 180.87792948557544), ('fusion', 179.03846153841306), ('process', 160.4336309308662), ('power', 156.93740450863223), ('ion', 126.14377248494435), ('fuel', 125.06509871160104)]\n",
      "Topic 15:\n",
      "[('quantum', 1331.8062330339301), ('state', 617.7945490830283), ('mechanic', 589.46463799509741), ('theory', 417.4046665458996), ('classical', 345.57096651942027), ('particle', 336.87705747332984), ('measurement', 281.79992237850496), ('wave', 223.09689652969755), ('physical', 222.50543874984984), ('interpretation', 207.2792978671263)]\n",
      "Topic 16:\n",
      "[('energy', 1082.7731758741236), ('entropy', 563.96159568129394), ('state', 459.30875289968475), ('law', 391.74103758087153), ('thermodynamics', 357.52570953171278), ('work', 332.34258306303479), ('thermodynamic', 321.35775635231505), ('process', 257.57538061277404), ('equilibrium', 210.66178712120563), ('quantity', 205.85880471808036)]\n",
      "Topic 17:\n",
      "[('effect', 236.48216080601665), ('point', 170.82616300768683), ('energy', 130.49930293896145), ('quantum', 119.89221732220555), ('wormhole', 117.17450555398291), ('condition', 117.0371895618953), ('plate', 100.93683991804954), ('theory', 88.208438087103687), ('field', 84.741374570431276), ('casimir', 84.038461538411639)]\n",
      "Topic 18:\n",
      "[('game', 350.88461444903623), ('gravity', 188.17394034914108), ('valve', 167.57968832591854), ('level', 110.54588782858646), ('character', 108.84475257468984), ('episode', 101.50174559694888), ('use', 96.17010061099657), ('day', 92.928496928553614), ('version', 92.39695794016302), ('new', 90.4847755465631)]\n",
      "Topic 19:\n",
      "[('wave', 798.93865047618738), ('light', 465.6115592505239), ('frequency', 286.777769889914), ('phase', 248.14044843945123), ('medium', 204.86002252606758), ('amplitude', 188.40505458925071), ('angle', 186.55285085378756), ('velocity', 175.74026829966726), ('sound', 156.20042887740564), ('intensity', 152.46560034246204)]\n",
      "Topic 20:\n",
      "[('resistance', 509.97352087132748), ('current', 439.95277255748618), ('device', 420.34502965864147), ('voltage', 333.74402480010974), ('circuit', 330.21909520989033), ('impedance', 189.44723995555572), ('state', 182.43948892928233), ('electrical', 157.40067318278057), ('memory', 146.22842173826379), ('line', 144.44355916699195)]\n",
      "Topic 21:\n",
      "[('vector', 1272.2549853988428), ('tensor', 434.65437652319008), ('point', 357.15170210726734), ('component', 344.9869180085015), ('angular', 332.63553256928088), ('quantity', 295.96302910507632), ('space', 267.61313223095084), ('coordinate', 263.5121689764527), ('product', 239.07074421752458), ('defined', 205.02656280144691)]\n",
      "Topic 22:\n",
      "[('relativity', 846.33285752818222), ('theory', 839.63706693087579), ('einstein', 663.96935140009532), ('general', 470.16699072463393), ('gravity', 285.91979242432029), ('field', 281.64888172166542), ('aether', 273.95165338762882), ('principle', 272.27997982848319), ('light', 259.15994261693839), ('spacetime', 251.61762307359848)]\n",
      "Topic 23:\n",
      "[('wave', 356.98793537095344), ('gravitational', 337.95155421263064), ('hole', 283.26833478689571), ('black', 251.74824565256421), ('material', 155.01557864374635), ('radiation', 121.4710011044412), ('strain', 111.52222845090458), ('detector', 109.19586569575398), ('energy', 90.365869216685098), ('stress', 87.183413979936617)]\n",
      "Topic 24:\n",
      "[('electron', 505.35727633814651), ('atom', 302.130233578125), ('energy', 256.87429910307526), ('transition', 238.71149610134103), ('spectrum', 207.49993017781793), ('atomic', 194.92355428270707), ('state', 158.89343141062108), ('band', 149.76606634652012), ('wavelength', 140.18308671054388), ('quantum', 140.13953430342244)]\n",
      "Topic 25:\n",
      "[('star', 545.54586688921484), ('earth', 275.39409237271587), ('planet', 262.66052951568207), ('galaxy', 244.71165388803439), ('sun', 224.46633319790442), ('matter', 218.86698200492555), ('solar', 215.3777587110398), ('universe', 166.21887657984843), ('ball', 135.64742642041733), ('observation', 133.34443700016053)]\n"
     ]
    }
   ],
   "source": [
    "print_topics(lda_model_count, count_vectorizer)\n",
    "\n",
    "#print_topics(lda_model_tfidf, count_vectorizer)"
   ]
  },
  {
   "cell_type": "markdown",
   "metadata": {},
   "source": [
    "Some of the grouped key words indeed made sense. But how to measure the model's performance? "
   ]
  },
  {
   "cell_type": "markdown",
   "metadata": {},
   "source": [
    "# define the top10 precision metric\n",
    "\n",
    "The top10 precision metric is defined as the precision for top10 of the recommended articles to be in the same subcategory as the one you are reading. \n",
    "\n",
    "It is not a perfect metric since you might want diversity in the category you read and relevant articles are not always in the same category. But it is a good metric to use for the first iteration of the recommendation engine. "
   ]
  },
  {
   "cell_type": "code",
   "execution_count": 14,
   "metadata": {},
   "outputs": [],
   "source": [
    "from sklearn.metrics.pairwise import cosine_similarity as cos_sim\n",
    "\n",
    "def top_n_index_sorted(array, top_n):\n",
    "    # get the index of top 10 values in the array\n",
    "    index = np.argpartition(array,-top_n)[-top_n:]\n",
    "    \n",
    "    # return the index of the sorted top_n values \n",
    "    return index[np.argsort(array[index])]\n",
    "\n",
    "def top10_recommend_index(index,model,data,top_n):\n",
    "    # transform the data using the model\n",
    "    lda_vectors=model.transform(data)\n",
    "    # calculate the cos similarity from the lda vectors \n",
    "    similarity=cos_sim(lda_vectors)\n",
    "    \n",
    "    top_n_index=top_n_index_sorted(similarity[index,],top_n+1)\n",
    "    \n",
    "    # get the decreasing similarity index\n",
    "    return top_n_index[::-1]    \n",
    "# example \n",
    "# top10_recommend_index(2,lda_model_2,data_count_vectorized,10)\n"
   ]
  },
  {
   "cell_type": "code",
   "execution_count": 15,
   "metadata": {},
   "outputs": [
    {
     "data": {
      "text/plain": [
       "array([  1, 751, 610, 876,   4, 394, 502,  52,  39, 157, 491])"
      ]
     },
     "execution_count": 15,
     "metadata": {},
     "output_type": "execute_result"
    }
   ],
   "source": [
    "top10_recommend_index(1,lda_model_count,data_count_vectorized,10)"
   ]
  },
  {
   "cell_type": "code",
   "execution_count": 16,
   "metadata": {},
   "outputs": [],
   "source": [
    "def top10_precision(top_n_index,data):\n",
    "    \n",
    "    # get the subcategory data\n",
    "    recommended_subcategory = wiki_phys[\"Subcategory\"].iloc[top_n_index]\n",
    "    recommended_subcategory = recommended_subcategory.values\n",
    "\n",
    "    \n",
    "    return sum(recommended_subcategory[0]==recommended_subcategory[1:])/len(recommended_subcategory[1:])\n"
   ]
  },
  {
   "cell_type": "code",
   "execution_count": 17,
   "metadata": {},
   "outputs": [
    {
     "data": {
      "text/plain": [
       "0.69999999999999996"
      ]
     },
     "execution_count": 17,
     "metadata": {},
     "output_type": "execute_result"
    }
   ],
   "source": [
    "top10_precision(top10_recommend_index(4,lda_model_count,data_count_vectorized,10), wiki_phys)"
   ]
  },
  {
   "cell_type": "code",
   "execution_count": 18,
   "metadata": {},
   "outputs": [],
   "source": [
    "# for the progress bar\n",
    "from tqdm import tqdm\n",
    "\n",
    "def precision_list(data,model,vectorized_text):\n",
    "    \n",
    "    length = data.shape[0]\n",
    "    # initialize the list \n",
    "    precision = [0]*length\n",
    "    \n",
    "\n",
    "    for i in tqdm(range(length)):\n",
    "        precision[i] = top10_precision(top10_recommend_index(i,model,vectorized_text,10), data)\n",
    "    \n",
    "    return precision    "
   ]
  },
  {
   "cell_type": "markdown",
   "metadata": {},
   "source": [
    "## Vectorized the test data "
   ]
  },
  {
   "cell_type": "code",
   "execution_count": 19,
   "metadata": {},
   "outputs": [],
   "source": [
    "tfidf_test_vectorized = tfidf_vectorizer.transform(wiki_phys_test['Text'].values.astype('U'))\n",
    "\n",
    "count_test_vectorized = count_vectorizer.transform(wiki_phys_test['Text'].values.astype('U'))"
   ]
  },
  {
   "cell_type": "markdown",
   "metadata": {},
   "source": [
    "## Calculate the performance on the test data"
   ]
  },
  {
   "cell_type": "code",
   "execution_count": 20,
   "metadata": {},
   "outputs": [
    {
     "name": "stderr",
     "output_type": "stream",
     "text": [
      "100%|██████████| 444/444 [00:15<00:00, 16.48it/s]\n"
     ]
    }
   ],
   "source": [
    "lda_tfidf_precision = precision_list(wiki_phys_test,lda_model_tfidf,tfidf_test_vectorized)"
   ]
  },
  {
   "cell_type": "code",
   "execution_count": 21,
   "metadata": {},
   "outputs": [
    {
     "name": "stderr",
     "output_type": "stream",
     "text": [
      "100%|██████████| 444/444 [04:07<00:00,  1.64it/s]\n"
     ]
    }
   ],
   "source": [
    "lda_count_precision = precision_list(wiki_phys_test,lda_model_count,data_count_vectorized)"
   ]
  },
  {
   "cell_type": "code",
   "execution_count": 22,
   "metadata": {},
   "outputs": [
    {
     "name": "stderr",
     "output_type": "stream",
     "text": [
      "100%|██████████| 444/444 [00:24<00:00, 17.43it/s]\n"
     ]
    }
   ],
   "source": [
    "nmf_count_precision = precision_list(wiki_phys_test,nmf_model_count,data_count_vectorized)"
   ]
  },
  {
   "cell_type": "code",
   "execution_count": 23,
   "metadata": {},
   "outputs": [
    {
     "name": "stderr",
     "output_type": "stream",
     "text": [
      "100%|██████████| 444/444 [00:11<00:00, 39.08it/s]\n"
     ]
    }
   ],
   "source": [
    "nmf_tfidf_precision = precision_list(wiki_phys_test,nmf_model_tfidf,tfidf_test_vectorized)"
   ]
  },
  {
   "cell_type": "code",
   "execution_count": 24,
   "metadata": {},
   "outputs": [],
   "source": [
    "precision_df = pd.DataFrame()\n",
    "\n",
    "precision_df[\"lda_tfidf\"] = pd.Series(lda_tfidf_precision)\n",
    "precision_df['lda_count'] = pd.Series(lda_count_precision)\n",
    "precision_df['nmf_tfidf'] = pd.Series(nmf_tfidf_precision)\n",
    "precision_df['nmf_count'] = pd.Series(nmf_count_precision)"
   ]
  },
  {
   "cell_type": "code",
   "execution_count": 25,
   "metadata": {},
   "outputs": [
    {
     "data": {
      "text/plain": [
       "<matplotlib.axes._subplots.AxesSubplot at 0x7fb4ebfc2f28>"
      ]
     },
     "execution_count": 25,
     "metadata": {},
     "output_type": "execute_result"
    },
    {
     "data": {
      "image/png": "[encoded data removed]",
      "text/plain": [
       "<Figure size 432x288 with 1 Axes>"
      ]
     },
     "metadata": {},
     "output_type": "display_data"
    }
   ],
   "source": [
    "sns.boxplot(data=precision_df, orient=\"h\")"
   ]
  },
  {
   "cell_type": "code",
   "execution_count": 26,
   "metadata": {},
   "outputs": [
    {
     "data": {
      "text/plain": [
       "Text(0.5,0,'Precision distribution for different algorithm with different vectorizer')"
      ]
     },
     "execution_count": 26,
     "metadata": {},
     "output_type": "execute_result"
    },
    {
     "data": {
      "image/png": "[encoded data removed]",
      "text/plain": [
       "<Figure size 720x576 with 1 Axes>"
      ]
     },
     "metadata": {},
     "output_type": "display_data"
    }
   ],
   "source": [
    "plt.figure(figsize=(10,8))\n",
    "\n",
    "sns.violinplot(data=precision_df, orient=\"h\")\n",
    "plt.xlim(0,1)\n",
    "plt.xlabel(\"Precision distribution for different algorithm with different vectorizer\")"
   ]
  },
  {
   "cell_type": "code",
   "execution_count": null,
   "metadata": {},
   "outputs": [],
   "source": []
  }
 ],
 "metadata": {
  "kernelspec": {
   "display_name": "Python 3",
   "language": "python",
   "name": "python3"
  },
  "language_info": {
   "codemirror_mode": {
    "name": "ipython",
    "version": 3
   },
   "file_extension": ".py",
   "mimetype": "text/x-python",
   "name": "python",
   "nbconvert_exporter": "python",
   "pygments_lexer": "ipython3",
   "version": "3.6.3"
  }
 },
 "nbformat": 4,
 "nbformat_minor": 2
}
