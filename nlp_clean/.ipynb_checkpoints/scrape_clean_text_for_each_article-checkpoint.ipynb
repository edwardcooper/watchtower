{
 "cells": [
  {
   "cell_type": "markdown",
   "metadata": {},
   "source": [
    "The goal of this notebook is to read each page of wikipedia from the csv file and clean it for nlp analysis"
   ]
  },
  {
   "cell_type": "code",
   "execution_count": 12,
   "metadata": {},
   "outputs": [],
   "source": [
    "import pandas as pd\n",
    "from urllib.request import urlopen\n",
    "from bs4 import BeautifulSoup as soup"
   ]
  },
  {
   "cell_type": "code",
   "execution_count": 13,
   "metadata": {},
   "outputs": [],
   "source": [
    "wiki_phys = pd.read_csv(\"../data/wiki_phys_scrape.csv\")"
   ]
  },
  {
   "cell_type": "code",
   "execution_count": 14,
   "metadata": {},
   "outputs": [
    {
     "data": {
      "text/html": [
       "<div>\n",
       "<style scoped>\n",
       "    .dataframe tbody tr th:only-of-type {\n",
       "        vertical-align: middle;\n",
       "    }\n",
       "\n",
       "    .dataframe tbody tr th {\n",
       "        vertical-align: top;\n",
       "    }\n",
       "\n",
       "    .dataframe thead th {\n",
       "        text-align: right;\n",
       "    }\n",
       "</style>\n",
       "<table border=\"1\" class=\"dataframe\">\n",
       "  <thead>\n",
       "    <tr style=\"text-align: right;\">\n",
       "      <th></th>\n",
       "      <th>Name</th>\n",
       "      <th>Link</th>\n",
       "      <th>Subcategory</th>\n",
       "    </tr>\n",
       "  </thead>\n",
       "  <tbody>\n",
       "    <tr>\n",
       "      <th>0</th>\n",
       "      <td>Wikipedia:FAQ/Categorization</td>\n",
       "      <td>https://en.wikipedia.org/wiki/Wikipedia:FAQ/Ca...</td>\n",
       "      <td>Concepts in physics</td>\n",
       "    </tr>\n",
       "    <tr>\n",
       "      <th>1</th>\n",
       "      <td>Category:Concepts in physics</td>\n",
       "      <td>https://en.wikipedia.org/w/index.php?title=Cat...</td>\n",
       "      <td>Concepts in physics</td>\n",
       "    </tr>\n",
       "    <tr>\n",
       "      <th>2</th>\n",
       "      <td>4D vector</td>\n",
       "      <td>https://en.wikipedia.org/wiki/4D_vector</td>\n",
       "      <td>Concepts in physics</td>\n",
       "    </tr>\n",
       "    <tr>\n",
       "      <th>3</th>\n",
       "      <td>Active and passive transformation</td>\n",
       "      <td>https://en.wikipedia.org/wiki/Active_and_passi...</td>\n",
       "      <td>Concepts in physics</td>\n",
       "    </tr>\n",
       "    <tr>\n",
       "      <th>4</th>\n",
       "      <td>Ansatz</td>\n",
       "      <td>https://en.wikipedia.org/wiki/Ansatz</td>\n",
       "      <td>Concepts in physics</td>\n",
       "    </tr>\n",
       "  </tbody>\n",
       "</table>\n",
       "</div>"
      ],
      "text/plain": [
       "                                Name  \\\n",
       "0       Wikipedia:FAQ/Categorization   \n",
       "1       Category:Concepts in physics   \n",
       "2                          4D vector   \n",
       "3  Active and passive transformation   \n",
       "4                             Ansatz   \n",
       "\n",
       "                                                Link          Subcategory  \n",
       "0  https://en.wikipedia.org/wiki/Wikipedia:FAQ/Ca...  Concepts in physics  \n",
       "1  https://en.wikipedia.org/w/index.php?title=Cat...  Concepts in physics  \n",
       "2            https://en.wikipedia.org/wiki/4D_vector  Concepts in physics  \n",
       "3  https://en.wikipedia.org/wiki/Active_and_passi...  Concepts in physics  \n",
       "4               https://en.wikipedia.org/wiki/Ansatz  Concepts in physics  "
      ]
     },
     "execution_count": 14,
     "metadata": {},
     "output_type": "execute_result"
    }
   ],
   "source": [
    "wiki_phys.head()"
   ]
  },
  {
   "cell_type": "code",
   "execution_count": 23,
   "metadata": {},
   "outputs": [
    {
     "data": {
      "text/plain": [
       "'https://en.wikipedia.org/wiki/4D_vector'"
      ]
     },
     "execution_count": 23,
     "metadata": {},
     "output_type": "execute_result"
    }
   ],
   "source": [
    "wiki_phys['Link'][2]"
   ]
  },
  {
   "cell_type": "code",
   "execution_count": 20,
   "metadata": {},
   "outputs": [],
   "source": [
    "def scrape_wiki_article(url):\n",
    "    wiki_article = urlopen(url).read()\n",
    "    # parse the file as html.\n",
    "    wiki_article_parsed = soup(wiki_article,\"html.parser\")"
   ]
  },
  {
   "cell_type": "code",
   "execution_count": 24,
   "metadata": {},
   "outputs": [],
   "source": [
    "wiki_article = urlopen(wiki_phys['Link'][2]).read()\n",
    "# parse the file as html.\n",
    "wiki_article_parsed = soup(wiki_article,\"html.parser\")"
   ]
  },
  {
   "cell_type": "code",
   "execution_count": 35,
   "metadata": {},
   "outputs": [
    {
     "data": {
      "text/plain": [
       "<a class=\"mw-redirect\" href=\"/wiki/Vector_(mathematics)\" title=\"Vector (mathematics)\">vector</a>"
      ]
     },
     "execution_count": 35,
     "metadata": {},
     "output_type": "execute_result"
    }
   ],
   "source": [
    "wiki_article_parsed.findAll('p')[0].findAll('a')[1]"
   ]
  },
  {
   "cell_type": "code",
   "execution_count": 36,
   "metadata": {},
   "outputs": [],
   "source": [
    "# use both the referenced article and the body of text to find the similarity. "
   ]
  },
  {
   "cell_type": "code",
   "execution_count": null,
   "metadata": {},
   "outputs": [],
   "source": []
  }
 ],
 "metadata": {
  "kernelspec": {
   "display_name": "Python 3",
   "language": "python",
   "name": "python3"
  },
  "language_info": {
   "codemirror_mode": {
    "name": "ipython",
    "version": 3
   },
   "file_extension": ".py",
   "mimetype": "text/x-python",
   "name": "python",
   "nbconvert_exporter": "python",
   "pygments_lexer": "ipython3",
   "version": "3.6.3"
  }
 },
 "nbformat": 4,
 "nbformat_minor": 2
}
